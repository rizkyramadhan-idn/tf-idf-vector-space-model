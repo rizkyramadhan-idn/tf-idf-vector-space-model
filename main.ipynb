{
 "cells": [
  {
   "cell_type": "code",
   "execution_count": 1,
   "metadata": {
    "ExecuteTime": {
     "end_time": "2020-12-12T07:31:44.424074Z",
     "start_time": "2020-12-12T07:31:44.187806Z"
    }
   },
   "outputs": [],
   "source": [
    "# TF-IDF\n",
    "\n",
    "from Sastrawi.Stemmer.StemmerFactory import StemmerFactory\n",
    "import math"
   ]
  },
  {
   "cell_type": "code",
   "execution_count": 2,
   "metadata": {
    "ExecuteTime": {
     "end_time": "2020-12-12T07:31:44.442016Z",
     "start_time": "2020-12-12T07:31:44.426141Z"
    }
   },
   "outputs": [],
   "source": [
    "factory = StemmerFactory()\n",
    "stemmer = factory.create_stemmer()"
   ]
  },
  {
   "cell_type": "code",
   "execution_count": 3,
   "metadata": {
    "ExecuteTime": {
     "end_time": "2020-12-12T07:31:44.527179Z",
     "start_time": "2020-12-12T07:31:44.522832Z"
    }
   },
   "outputs": [],
   "source": [
    "# Mendapatkan list yang berisi kata-kata yang sudah di-tokenize dan stemmed.\n",
    "\n",
    "def get_stemmed_and_tokenize_word(list_of_sentence):\n",
    "    list_of_word = []\n",
    "    \n",
    "    for sentence in list_of_sentence:\n",
    "        for word in stemmer.stem(sentence).split(\" \"):\n",
    "            if word not in list_of_word:\n",
    "                list_of_word.append(word)\n",
    "            \n",
    "    return list_of_word"
   ]
  },
  {
   "cell_type": "code",
   "execution_count": 4,
   "metadata": {
    "ExecuteTime": {
     "end_time": "2020-12-12T07:31:44.711160Z",
     "start_time": "2020-12-12T07:31:44.707819Z"
    }
   },
   "outputs": [],
   "source": [
    "kata_kunci = \"pengetahuan logistik\""
   ]
  },
  {
   "cell_type": "code",
   "execution_count": 5,
   "metadata": {
    "ExecuteTime": {
     "end_time": "2020-12-12T07:31:44.890231Z",
     "start_time": "2020-12-12T07:31:44.883817Z"
    }
   },
   "outputs": [],
   "source": [
    "# Dokumen\n",
    "\n",
    "dokumen_1 = \"manajemen transaksi logistik\"\n",
    "dokumen_2 = \"pengetahuan antar individu\"\n",
    "dokumen_3 = \"dalam manajemen pengetahuan terdapat transfer pengetahuan logistik\""
   ]
  },
  {
   "cell_type": "code",
   "execution_count": 6,
   "metadata": {
    "ExecuteTime": {
     "end_time": "2020-12-12T07:31:45.082090Z",
     "start_time": "2020-12-12T07:31:45.077945Z"
    }
   },
   "outputs": [],
   "source": [
    "# List dari seluruh dokumen\n",
    "\n",
    "list_of_sentence = [dokumen_1, dokumen_2, dokumen_3]"
   ]
  },
  {
   "cell_type": "code",
   "execution_count": 7,
   "metadata": {
    "ExecuteTime": {
     "end_time": "2020-12-12T07:31:45.297908Z",
     "start_time": "2020-12-12T07:31:45.282383Z"
    }
   },
   "outputs": [],
   "source": [
    "# Word yang sudah di-tokenize dan stemmed\n",
    "\n",
    "list_of_word = get_stemmed_and_tokenize_word(list_of_sentence)"
   ]
  },
  {
   "cell_type": "code",
   "execution_count": 8,
   "metadata": {
    "ExecuteTime": {
     "end_time": "2020-12-12T07:31:45.483470Z",
     "start_time": "2020-12-12T07:31:45.465800Z"
    }
   },
   "outputs": [
    {
     "data": {
      "text/plain": [
       "['manajemen',\n",
       " 'transaksi',\n",
       " 'logistik',\n",
       " 'tahu',\n",
       " 'antar',\n",
       " 'individu',\n",
       " 'dalam',\n",
       " 'dapat',\n",
       " 'transfer']"
      ]
     },
     "execution_count": 8,
     "metadata": {},
     "output_type": "execute_result"
    }
   ],
   "source": [
    "list_of_word"
   ]
  },
  {
   "cell_type": "code",
   "execution_count": null,
   "metadata": {
    "ExecuteTime": {
     "end_time": "2020-12-11T14:58:18.706177Z",
     "start_time": "2020-12-11T14:58:18.698921Z"
    }
   },
   "outputs": [],
   "source": []
  },
  {
   "cell_type": "code",
   "execution_count": 9,
   "metadata": {
    "ExecuteTime": {
     "end_time": "2020-12-12T07:31:45.811407Z",
     "start_time": "2020-12-12T07:31:45.806343Z"
    }
   },
   "outputs": [],
   "source": [
    "term_frequency = []\n",
    "\n",
    "for i in range(4):\n",
    "    term_frequency.append(dict(zip(list_of_word, [0 for _ in range(len(list_of_word))])))"
   ]
  },
  {
   "cell_type": "code",
   "execution_count": 10,
   "metadata": {
    "ExecuteTime": {
     "end_time": "2020-12-12T07:31:45.996596Z",
     "start_time": "2020-12-12T07:31:45.989184Z"
    }
   },
   "outputs": [
    {
     "data": {
      "text/plain": [
       "[{'manajemen': 0,\n",
       "  'transaksi': 0,\n",
       "  'logistik': 0,\n",
       "  'tahu': 0,\n",
       "  'antar': 0,\n",
       "  'individu': 0,\n",
       "  'dalam': 0,\n",
       "  'dapat': 0,\n",
       "  'transfer': 0},\n",
       " {'manajemen': 0,\n",
       "  'transaksi': 0,\n",
       "  'logistik': 0,\n",
       "  'tahu': 0,\n",
       "  'antar': 0,\n",
       "  'individu': 0,\n",
       "  'dalam': 0,\n",
       "  'dapat': 0,\n",
       "  'transfer': 0},\n",
       " {'manajemen': 0,\n",
       "  'transaksi': 0,\n",
       "  'logistik': 0,\n",
       "  'tahu': 0,\n",
       "  'antar': 0,\n",
       "  'individu': 0,\n",
       "  'dalam': 0,\n",
       "  'dapat': 0,\n",
       "  'transfer': 0},\n",
       " {'manajemen': 0,\n",
       "  'transaksi': 0,\n",
       "  'logistik': 0,\n",
       "  'tahu': 0,\n",
       "  'antar': 0,\n",
       "  'individu': 0,\n",
       "  'dalam': 0,\n",
       "  'dapat': 0,\n",
       "  'transfer': 0}]"
      ]
     },
     "execution_count": 10,
     "metadata": {},
     "output_type": "execute_result"
    }
   ],
   "source": [
    "term_frequency"
   ]
  },
  {
   "cell_type": "code",
   "execution_count": null,
   "metadata": {
    "ExecuteTime": {
     "end_time": "2020-12-11T15:02:07.602429Z",
     "start_time": "2020-12-11T15:02:07.596932Z"
    }
   },
   "outputs": [],
   "source": []
  },
  {
   "cell_type": "code",
   "execution_count": 11,
   "metadata": {
    "ExecuteTime": {
     "end_time": "2020-12-12T07:31:46.346424Z",
     "start_time": "2020-12-12T07:31:46.341103Z"
    }
   },
   "outputs": [],
   "source": [
    "for index, sentence in enumerate([kata_kunci, dokumen_1, dokumen_2, dokumen_3]):\n",
    "    for word in stemmer.stem(sentence).split(\" \"):\n",
    "        if word in term_frequency[index]:\n",
    "            term_frequency[index][word] += 1"
   ]
  },
  {
   "cell_type": "code",
   "execution_count": 12,
   "metadata": {
    "ExecuteTime": {
     "end_time": "2020-12-12T07:31:46.532811Z",
     "start_time": "2020-12-12T07:31:46.523634Z"
    }
   },
   "outputs": [
    {
     "data": {
      "text/plain": [
       "[{'manajemen': 0,\n",
       "  'transaksi': 0,\n",
       "  'logistik': 1,\n",
       "  'tahu': 1,\n",
       "  'antar': 0,\n",
       "  'individu': 0,\n",
       "  'dalam': 0,\n",
       "  'dapat': 0,\n",
       "  'transfer': 0},\n",
       " {'manajemen': 1,\n",
       "  'transaksi': 1,\n",
       "  'logistik': 1,\n",
       "  'tahu': 0,\n",
       "  'antar': 0,\n",
       "  'individu': 0,\n",
       "  'dalam': 0,\n",
       "  'dapat': 0,\n",
       "  'transfer': 0},\n",
       " {'manajemen': 0,\n",
       "  'transaksi': 0,\n",
       "  'logistik': 0,\n",
       "  'tahu': 1,\n",
       "  'antar': 1,\n",
       "  'individu': 1,\n",
       "  'dalam': 0,\n",
       "  'dapat': 0,\n",
       "  'transfer': 0},\n",
       " {'manajemen': 1,\n",
       "  'transaksi': 0,\n",
       "  'logistik': 1,\n",
       "  'tahu': 2,\n",
       "  'antar': 0,\n",
       "  'individu': 0,\n",
       "  'dalam': 1,\n",
       "  'dapat': 1,\n",
       "  'transfer': 1}]"
      ]
     },
     "execution_count": 12,
     "metadata": {},
     "output_type": "execute_result"
    }
   ],
   "source": [
    "term_frequency"
   ]
  },
  {
   "cell_type": "code",
   "execution_count": null,
   "metadata": {},
   "outputs": [],
   "source": []
  },
  {
   "cell_type": "code",
   "execution_count": 13,
   "metadata": {
    "ExecuteTime": {
     "end_time": "2020-12-12T07:31:46.886646Z",
     "start_time": "2020-12-12T07:31:46.880182Z"
    }
   },
   "outputs": [],
   "source": [
    "document_frequency = dict(zip(list_of_word, [0 for _ in range(len(list_of_word))]))"
   ]
  },
  {
   "cell_type": "code",
   "execution_count": 14,
   "metadata": {
    "ExecuteTime": {
     "end_time": "2020-12-12T07:31:47.046914Z",
     "start_time": "2020-12-12T07:31:47.041338Z"
    }
   },
   "outputs": [
    {
     "data": {
      "text/plain": [
       "{'manajemen': 0,\n",
       " 'transaksi': 0,\n",
       " 'logistik': 0,\n",
       " 'tahu': 0,\n",
       " 'antar': 0,\n",
       " 'individu': 0,\n",
       " 'dalam': 0,\n",
       " 'dapat': 0,\n",
       " 'transfer': 0}"
      ]
     },
     "execution_count": 14,
     "metadata": {},
     "output_type": "execute_result"
    }
   ],
   "source": [
    "document_frequency"
   ]
  },
  {
   "cell_type": "code",
   "execution_count": 15,
   "metadata": {
    "ExecuteTime": {
     "end_time": "2020-12-12T07:31:47.246915Z",
     "start_time": "2020-12-12T07:31:47.240856Z"
    }
   },
   "outputs": [],
   "source": [
    "for index, document in enumerate(term_frequency):\n",
    "    if index > 0:\n",
    "        for key, value in document.items():\n",
    "            if value:\n",
    "                document_frequency[key] += 1"
   ]
  },
  {
   "cell_type": "code",
   "execution_count": 16,
   "metadata": {
    "ExecuteTime": {
     "end_time": "2020-12-12T07:31:47.429057Z",
     "start_time": "2020-12-12T07:31:47.420019Z"
    }
   },
   "outputs": [
    {
     "data": {
      "text/plain": [
       "{'manajemen': 2,\n",
       " 'transaksi': 1,\n",
       " 'logistik': 2,\n",
       " 'tahu': 2,\n",
       " 'antar': 1,\n",
       " 'individu': 1,\n",
       " 'dalam': 1,\n",
       " 'dapat': 1,\n",
       " 'transfer': 1}"
      ]
     },
     "execution_count": 16,
     "metadata": {},
     "output_type": "execute_result"
    }
   ],
   "source": [
    "document_frequency"
   ]
  },
  {
   "cell_type": "code",
   "execution_count": null,
   "metadata": {},
   "outputs": [],
   "source": []
  },
  {
   "cell_type": "code",
   "execution_count": 17,
   "metadata": {
    "ExecuteTime": {
     "end_time": "2020-12-12T07:31:47.957033Z",
     "start_time": "2020-12-12T07:31:47.953719Z"
    }
   },
   "outputs": [],
   "source": [
    "d_df = {}"
   ]
  },
  {
   "cell_type": "code",
   "execution_count": 18,
   "metadata": {
    "ExecuteTime": {
     "end_time": "2020-12-12T07:31:48.156214Z",
     "start_time": "2020-12-12T07:31:48.151245Z"
    }
   },
   "outputs": [],
   "source": [
    "for key, value in document_frequency.items():\n",
    "    d_df[key] = len(list_of_sentence) / value"
   ]
  },
  {
   "cell_type": "code",
   "execution_count": 19,
   "metadata": {
    "ExecuteTime": {
     "end_time": "2020-12-12T07:31:48.373231Z",
     "start_time": "2020-12-12T07:31:48.368273Z"
    }
   },
   "outputs": [
    {
     "data": {
      "text/plain": [
       "{'manajemen': 1.5,\n",
       " 'transaksi': 3.0,\n",
       " 'logistik': 1.5,\n",
       " 'tahu': 1.5,\n",
       " 'antar': 3.0,\n",
       " 'individu': 3.0,\n",
       " 'dalam': 3.0,\n",
       " 'dapat': 3.0,\n",
       " 'transfer': 3.0}"
      ]
     },
     "execution_count": 19,
     "metadata": {},
     "output_type": "execute_result"
    }
   ],
   "source": [
    "d_df"
   ]
  },
  {
   "cell_type": "code",
   "execution_count": null,
   "metadata": {},
   "outputs": [],
   "source": []
  },
  {
   "cell_type": "code",
   "execution_count": 20,
   "metadata": {
    "ExecuteTime": {
     "end_time": "2020-12-12T07:31:48.795730Z",
     "start_time": "2020-12-12T07:31:48.791483Z"
    }
   },
   "outputs": [],
   "source": [
    "idf = {}"
   ]
  },
  {
   "cell_type": "code",
   "execution_count": 21,
   "metadata": {
    "ExecuteTime": {
     "end_time": "2020-12-12T07:31:48.995819Z",
     "start_time": "2020-12-12T07:31:48.992844Z"
    }
   },
   "outputs": [],
   "source": [
    "for key, value in d_df.items():\n",
    "    idf[key] = round(math.log10(value), 3)"
   ]
  },
  {
   "cell_type": "code",
   "execution_count": 22,
   "metadata": {
    "ExecuteTime": {
     "end_time": "2020-12-12T07:31:49.262494Z",
     "start_time": "2020-12-12T07:31:49.255656Z"
    }
   },
   "outputs": [
    {
     "data": {
      "text/plain": [
       "{'manajemen': 0.176,\n",
       " 'transaksi': 0.477,\n",
       " 'logistik': 0.176,\n",
       " 'tahu': 0.176,\n",
       " 'antar': 0.477,\n",
       " 'individu': 0.477,\n",
       " 'dalam': 0.477,\n",
       " 'dapat': 0.477,\n",
       " 'transfer': 0.477}"
      ]
     },
     "execution_count": 22,
     "metadata": {},
     "output_type": "execute_result"
    }
   ],
   "source": [
    "idf"
   ]
  },
  {
   "cell_type": "code",
   "execution_count": null,
   "metadata": {
    "ExecuteTime": {
     "end_time": "2020-12-11T16:06:13.276586Z",
     "start_time": "2020-12-11T16:06:13.271826Z"
    }
   },
   "outputs": [],
   "source": []
  },
  {
   "cell_type": "code",
   "execution_count": 23,
   "metadata": {
    "ExecuteTime": {
     "end_time": "2020-12-12T07:31:49.678301Z",
     "start_time": "2020-12-12T07:31:49.674998Z"
    }
   },
   "outputs": [],
   "source": [
    "W_q_t = []"
   ]
  },
  {
   "cell_type": "code",
   "execution_count": 24,
   "metadata": {
    "ExecuteTime": {
     "end_time": "2020-12-12T07:31:49.906518Z",
     "start_time": "2020-12-12T07:31:49.899214Z"
    }
   },
   "outputs": [],
   "source": [
    "for index, document in enumerate(term_frequency):\n",
    "    W_q_t.append({})\n",
    "    \n",
    "    for key, value in document.items():\n",
    "        W_q_t[index][key] = value * idf[key]"
   ]
  },
  {
   "cell_type": "code",
   "execution_count": 25,
   "metadata": {
    "ExecuteTime": {
     "end_time": "2020-12-12T07:31:50.160586Z",
     "start_time": "2020-12-12T07:31:50.150234Z"
    }
   },
   "outputs": [
    {
     "data": {
      "text/plain": [
       "[{'manajemen': 0.0,\n",
       "  'transaksi': 0.0,\n",
       "  'logistik': 0.176,\n",
       "  'tahu': 0.176,\n",
       "  'antar': 0.0,\n",
       "  'individu': 0.0,\n",
       "  'dalam': 0.0,\n",
       "  'dapat': 0.0,\n",
       "  'transfer': 0.0},\n",
       " {'manajemen': 0.176,\n",
       "  'transaksi': 0.477,\n",
       "  'logistik': 0.176,\n",
       "  'tahu': 0.0,\n",
       "  'antar': 0.0,\n",
       "  'individu': 0.0,\n",
       "  'dalam': 0.0,\n",
       "  'dapat': 0.0,\n",
       "  'transfer': 0.0},\n",
       " {'manajemen': 0.0,\n",
       "  'transaksi': 0.0,\n",
       "  'logistik': 0.0,\n",
       "  'tahu': 0.176,\n",
       "  'antar': 0.477,\n",
       "  'individu': 0.477,\n",
       "  'dalam': 0.0,\n",
       "  'dapat': 0.0,\n",
       "  'transfer': 0.0},\n",
       " {'manajemen': 0.176,\n",
       "  'transaksi': 0.0,\n",
       "  'logistik': 0.176,\n",
       "  'tahu': 0.352,\n",
       "  'antar': 0.0,\n",
       "  'individu': 0.0,\n",
       "  'dalam': 0.477,\n",
       "  'dapat': 0.477,\n",
       "  'transfer': 0.477}]"
      ]
     },
     "execution_count": 25,
     "metadata": {},
     "output_type": "execute_result"
    }
   ],
   "source": [
    "W_q_t"
   ]
  },
  {
   "cell_type": "code",
   "execution_count": null,
   "metadata": {},
   "outputs": [],
   "source": []
  },
  {
   "cell_type": "code",
   "execution_count": 26,
   "metadata": {
    "ExecuteTime": {
     "end_time": "2020-12-12T07:31:50.595101Z",
     "start_time": "2020-12-12T07:31:50.591703Z"
    }
   },
   "outputs": [],
   "source": [
    "bobot_kata_kunci = []"
   ]
  },
  {
   "cell_type": "code",
   "execution_count": 27,
   "metadata": {
    "ExecuteTime": {
     "end_time": "2020-12-12T07:31:50.830217Z",
     "start_time": "2020-12-12T07:31:50.824121Z"
    }
   },
   "outputs": [],
   "source": [
    "for index, token in enumerate(W_q_t):\n",
    "    if index > 0:\n",
    "        bobot_kata_kunci.append({})\n",
    "        \n",
    "        for word in stemmer.stem(kata_kunci).split(\" \"):\n",
    "            bobot_kata_kunci[index - 1][word] = token[word]"
   ]
  },
  {
   "cell_type": "code",
   "execution_count": 28,
   "metadata": {
    "ExecuteTime": {
     "end_time": "2020-12-12T07:31:51.281477Z",
     "start_time": "2020-12-12T07:31:51.274332Z"
    }
   },
   "outputs": [
    {
     "data": {
      "text/plain": [
       "[{'tahu': 0.0, 'logistik': 0.176},\n",
       " {'tahu': 0.176, 'logistik': 0.0},\n",
       " {'tahu': 0.352, 'logistik': 0.176}]"
      ]
     },
     "execution_count": 28,
     "metadata": {},
     "output_type": "execute_result"
    }
   ],
   "source": [
    "bobot_kata_kunci"
   ]
  },
  {
   "cell_type": "code",
   "execution_count": 29,
   "metadata": {
    "ExecuteTime": {
     "end_time": "2020-12-12T07:31:51.505276Z",
     "start_time": "2020-12-12T07:31:51.500417Z"
    }
   },
   "outputs": [],
   "source": [
    "def get_bobot_dokumen(list_bobot_dokumen):\n",
    "    bobot_dokumen = []\n",
    "    \n",
    "    for index, dokumen in enumerate(list_bobot_dokumen):\n",
    "        total = 0\n",
    "        \n",
    "        for key, value in dokumen.items():\n",
    "            total += value\n",
    "        \n",
    "        bobot_dokumen.append({ f\"bobot_dokumen_{index + 1}\": total })\n",
    "    \n",
    "    return bobot_dokumen"
   ]
  },
  {
   "cell_type": "code",
   "execution_count": 30,
   "metadata": {
    "ExecuteTime": {
     "end_time": "2020-12-12T07:31:51.821147Z",
     "start_time": "2020-12-12T07:31:51.817051Z"
    }
   },
   "outputs": [],
   "source": [
    "bobot_dokumen = get_bobot_dokumen(bobot_kata_kunci)"
   ]
  },
  {
   "cell_type": "code",
   "execution_count": 31,
   "metadata": {
    "ExecuteTime": {
     "end_time": "2020-12-12T07:31:52.170981Z",
     "start_time": "2020-12-12T07:31:52.164583Z"
    }
   },
   "outputs": [
    {
     "data": {
      "text/plain": [
       "[{'bobot_dokumen_1': 0.176},\n",
       " {'bobot_dokumen_2': 0.176},\n",
       " {'bobot_dokumen_3': 0.528}]"
      ]
     },
     "execution_count": 31,
     "metadata": {},
     "output_type": "execute_result"
    }
   ],
   "source": [
    "bobot_dokumen"
   ]
  },
  {
   "cell_type": "code",
   "execution_count": null,
   "metadata": {
    "ExecuteTime": {
     "end_time": "2020-12-11T17:06:55.146477Z",
     "start_time": "2020-12-11T17:06:55.141596Z"
    }
   },
   "outputs": [],
   "source": []
  },
  {
   "cell_type": "code",
   "execution_count": null,
   "metadata": {},
   "outputs": [],
   "source": []
  },
  {
   "cell_type": "code",
   "execution_count": null,
   "metadata": {},
   "outputs": [],
   "source": []
  },
  {
   "cell_type": "code",
   "execution_count": null,
   "metadata": {},
   "outputs": [],
   "source": []
  }
 ],
 "metadata": {
  "kernelspec": {
   "display_name": "Python 3",
   "language": "python",
   "name": "python3"
  },
  "language_info": {
   "codemirror_mode": {
    "name": "ipython",
    "version": 3
   },
   "file_extension": ".py",
   "mimetype": "text/x-python",
   "name": "python",
   "nbconvert_exporter": "python",
   "pygments_lexer": "ipython3",
   "version": "3.8.6"
  }
 },
 "nbformat": 4,
 "nbformat_minor": 4
}
